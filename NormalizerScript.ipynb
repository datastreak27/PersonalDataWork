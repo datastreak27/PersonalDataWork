{
 "cells": [
  {
   "cell_type": "code",
   "execution_count": 1,
   "metadata": {},
   "outputs": [],
   "source": [
    "import pandas as pd"
   ]
  },
  {
   "cell_type": "code",
   "execution_count": 3,
   "metadata": {},
   "outputs": [],
   "source": [
    "gambling_keywords_df = pd.read_csv(\"SlotSchool3NF_Tables/Gambling_Keywords.csv\")\n",
    "counties_df = pd.read_csv(\"SlotSchool3NF_Tables/Counties.csv\")\n",
    "gamblingplace_keywords_df = pd.read_csv(\"SlotSchool3NF_Tables/GamblingPlace_Keywords.csv\")\n",
    "gambling_places_df = pd.read_csv(\"SlotSchool3NF_Tables/Gambling_Places.csv\")\n",
    "addresses_df = pd.read_csv(\"SlotSchool3NF_Tables/SchoolAddresses.csv\")\n",
    "schools_df = pd.read_csv(\"SlotSchool3NF_Tables/Schools.csv\")\n",
    "school_place_proximity_df = pd.read_csv(\"SlotSchool3NF_Tables/School_Place_Proximity.csv\")"
   ]
  },
  {
   "cell_type": "code",
   "execution_count": null,
   "metadata": {},
   "outputs": [],
   "source": [
    "# rename school name coordinates to easily distinguish between the original name/address coordinates orginially in the schools csv\n",
    "# schools_df.rename(columns={\"SchoolLatitude\": \"SchoolNameLatitude\"}, inplace=True)\n",
    "# schools_df.rename(columns={\"SchoolLongitude\": \"SchoolNameLongitude\"}, inplace=True)"
   ]
  },
  {
   "cell_type": "code",
   "execution_count": 3,
   "metadata": {},
   "outputs": [],
   "source": [
    "# remove trusted_location from GamblingPlaces\n",
    "gambling_places_df = gambling_places_df.drop(\"TrustedLocation\", axis=1)"
   ]
  },
  {
   "cell_type": "code",
   "execution_count": 4,
   "metadata": {},
   "outputs": [],
   "source": [
    "gambling_places_df.to_csv(\"SlotSchool3NF_Tables/Gambling_Places.csv\", index=False)"
   ]
  },
  {
   "cell_type": "code",
   "execution_count": 10,
   "metadata": {},
   "outputs": [],
   "source": [
    "# dropped columns to satisfy BCNF\n",
    "schools_df = schools_df.drop(columns=[\"SchoolNameLatitude\", \"SchoolNameLongitude\", \"CoordDistance\"])"
   ]
  },
  {
   "cell_type": "code",
   "execution_count": 11,
   "metadata": {},
   "outputs": [],
   "source": [
    "schools_df.to_csv(\"SlotSchool3NF_Tables/Schools.csv\", index=False)"
   ]
  },
  {
   "cell_type": "code",
   "execution_count": 4,
   "metadata": {},
   "outputs": [
    {
     "data": {
      "text/plain": [
       "{'gambling_keywords_df': True,\n",
       " 'counties_df': True,\n",
       " 'gamblingplace_keywords_df': np.True_,\n",
       " 'gambling_places_df': True,\n",
       " 'addresses_df': True,\n",
       " 'schools_df': False,\n",
       " 'school_place_proximity_df': np.True_}"
      ]
     },
     "execution_count": 4,
     "metadata": {},
     "output_type": "execute_result"
    }
   ],
   "source": [
    "# Define suspected primary keys for each table and check if they are unique for BCNF\n",
    "key_checks = {\n",
    "    \"gambling_keywords_df\": gambling_keywords_df[\"KeywordId\"].is_unique,\n",
    "    \"counties_df\": counties_df[\"CountyId\"].is_unique,\n",
    "    \"gamblingplace_keywords_df\": (gamblingplace_keywords_df[[\"GamblingPlaceId\", \"KeywordId\"]]\n",
    "                                   .duplicated().sum() == 0),\n",
    "    \"gambling_places_df\": gambling_places_df[\"GamblingPlaceId\"].is_unique,\n",
    "    \"addresses_df\": addresses_df[\"SchoolAddressId\"].is_unique,\n",
    "    \"schools_df\": schools_df[\"SchoolId\"].is_unique,\n",
    "    \"school_place_proximity_df\": (school_place_proximity_df[[\"SchoolId\", \"GamblingPlaceId\"]]\n",
    "                                   .duplicated().sum() == 0)\n",
    "}\n",
    "\n",
    "key_checks"
   ]
  },
  {
   "cell_type": "code",
   "execution_count": 5,
   "metadata": {},
   "outputs": [
    {
     "ename": "AttributeError",
     "evalue": "'list' object has no attribute 'empty'",
     "output_type": "error",
     "traceback": [
      "\u001b[31m---------------------------------------------------------------------------\u001b[39m",
      "\u001b[31mAttributeError\u001b[39m                            Traceback (most recent call last)",
      "\u001b[36mCell\u001b[39m\u001b[36m \u001b[39m\u001b[32mIn[5]\u001b[39m\u001b[32m, line 9\u001b[39m\n\u001b[32m      7\u001b[39m \u001b[38;5;66;03m# --- Check 1: Ensure every SchoolId in school_place_proximity exists in schools ---\u001b[39;00m\n\u001b[32m      8\u001b[39m missing_school_ids = [~df_sp[\u001b[33m'\u001b[39m\u001b[33mSchoolId\u001b[39m\u001b[33m'\u001b[39m].isin(df_schools[\u001b[33m'\u001b[39m\u001b[33mSchoolId\u001b[39m\u001b[33m'\u001b[39m])]\n\u001b[32m----> \u001b[39m\u001b[32m9\u001b[39m \u001b[38;5;28;01mif\u001b[39;00m \u001b[43mmissing_school_ids\u001b[49m\u001b[43m.\u001b[49m\u001b[43mempty\u001b[49m:\n\u001b[32m     10\u001b[39m     \u001b[38;5;28mprint\u001b[39m(\u001b[33m\"\u001b[39m\u001b[33mAll SchoolId values in school_place_proximity exist in the schools table.\u001b[39m\u001b[33m\"\u001b[39m)\n\u001b[32m     11\u001b[39m \u001b[38;5;28;01melse\u001b[39;00m:\n",
      "\u001b[31mAttributeError\u001b[39m: 'list' object has no attribute 'empty'"
     ]
    }
   ],
   "source": [
    "# Load the CSV files for each table\n",
    "# Adjust the file paths if needed\n",
    "df_sp = pd.read_csv(\"SlotSchool3NF_Tables/School_Place_Proximity.csv\")\n",
    "df_schools = pd.read_csv(\"SlotSchool3NF_Tables/Schools.csv\")\n",
    "df_gambling = pd.read_csv(\"SlotSchool3NF_Tables/Gambling_Places.csv\")\n",
    "\n",
    "# --- Check 1: Ensure every SchoolId in school_place_proximity exists in schools ---\n",
    "missing_school_ids = [~df_sp['SchoolId'].isin(df_schools['SchoolId'])]\n",
    "if missing_school_ids.empty:\n",
    "    print(\"All SchoolId values in school_place_proximity exist in the schools table.\")\n",
    "else:\n",
    "    print(\"The following rows in school_place_proximity reference SchoolId values not found in the schools table:\")\n",
    "    print(missing_school_ids)\n",
    "\n",
    "# --- Check 2: Ensure every GamblingPlaceId in school_place_proximity exists in gambling_places ---\n",
    "missing_gambling_ids = df_sp[~df_sp['GamblingPlaceId'].isin(df_gambling['GamblingPlaceId'])]\n",
    "if missing_gambling_ids.empty:\n",
    "    print(\"All GamblingPlaceId values in school_place_proximity exist in the gambling_places table.\")\n",
    "else:\n",
    "    print(\"The following rows in school_place_proximity reference GamblingPlaceId values not found in the gambling_places table:\")\n",
    "    print(missing_gambling_ids)\n",
    "\n",
    "# --- Check 3 (Optional): Look for duplicate composite keys (SchoolId, GamblingPlaceId) ---\n",
    "duplicate_rows = df_sp[df_sp.duplicated(subset=['SchoolId', 'GamblingPlaceId'], keep=False)]\n",
    "if duplicate_rows.empty:\n",
    "    print(\"There are no duplicate composite keys (SchoolId, GamblingPlaceId) in the school_place_proximity table.\")\n",
    "else:\n",
    "    print(\"The following duplicate rows were found (based on SchoolId and GamblingPlaceId):\")\n",
    "    print(duplicate_rows)"
   ]
  }
 ],
 "metadata": {
  "kernelspec": {
   "display_name": "Python 3",
   "language": "python",
   "name": "python3"
  },
  "language_info": {
   "codemirror_mode": {
    "name": "ipython",
    "version": 3
   },
   "file_extension": ".py",
   "mimetype": "text/x-python",
   "name": "python",
   "nbconvert_exporter": "python",
   "pygments_lexer": "ipython3",
   "version": "3.13.2"
  }
 },
 "nbformat": 4,
 "nbformat_minor": 2
}

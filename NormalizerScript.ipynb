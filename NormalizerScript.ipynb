{
 "cells": [
  {
   "cell_type": "code",
   "execution_count": 1,
   "metadata": {},
   "outputs": [],
   "source": [
    "import pandas as pd"
   ]
  },
  {
   "cell_type": "code",
   "execution_count": 9,
   "metadata": {},
   "outputs": [],
   "source": [
    "gambling_keywords_df = pd.read_csv(\"SlotSchool3NF_Tables/Gambling_Keywords.csv\")\n",
    "counties_df = pd.read_csv(\"SlotSchool3NF_Tables/Counties.csv\")\n",
    "gamblingplace_keywords_df = pd.read_csv(\"SlotSchool3NF_Tables/GamblingPlace_Keywords.csv\")\n",
    "gambling_places_df = pd.read_csv(\"SlotSchool3NF_Tables/Gambling_Places.csv\")\n",
    "addresses_df = pd.read_csv(\"SlotSchool3NF_Tables/Addresses.csv\")\n",
    "schools_df = pd.read_csv(\"SlotSchool3NF_Tables/Schools.csv\")\n",
    "school_place_proximity_df = pd.read_csv(\"SlotSchool3NF_Tables/School_Place_Proximity.csv\")"
   ]
  },
  {
   "cell_type": "code",
   "execution_count": null,
   "metadata": {},
   "outputs": [],
   "source": [
    "# rename school name coordinates to easily distinguish between the original name/address coordinates orginially in the schools csv\n",
    "# schools_df.rename(columns={\"SchoolLatitude\": \"SchoolNameLatitude\"}, inplace=True)\n",
    "# schools_df.rename(columns={\"SchoolLongitude\": \"SchoolNameLongitude\"}, inplace=True)"
   ]
  },
  {
   "cell_type": "code",
   "execution_count": 3,
   "metadata": {},
   "outputs": [],
   "source": [
    "# remove trusted_location from GamblingPlaces\n",
    "gambling_places_df = gambling_places_df.drop(\"TrustedLocation\", axis=1)"
   ]
  },
  {
   "cell_type": "code",
   "execution_count": 4,
   "metadata": {},
   "outputs": [],
   "source": [
    "gambling_places_df.to_csv(\"SlotSchool3NF_Tables/Gambling_Places.csv\", index=False)"
   ]
  },
  {
   "cell_type": "code",
   "execution_count": 10,
   "metadata": {},
   "outputs": [],
   "source": [
    "# dropped columns to satisfy BCNF\n",
    "schools_df = schools_df.drop(columns=[\"SchoolNameLatitude\", \"SchoolNameLongitude\", \"CoordDistance\"])"
   ]
  },
  {
   "cell_type": "code",
   "execution_count": 11,
   "metadata": {},
   "outputs": [],
   "source": [
    "schools_df.to_csv(\"SlotSchool3NF_Tables/Schools.csv\", index=False)"
   ]
  },
  {
   "cell_type": "code",
   "execution_count": 4,
   "metadata": {},
   "outputs": [
    {
     "data": {
      "text/plain": [
       "{'gambling_keywords_df': True,\n",
       " 'counties_df': True,\n",
       " 'gamblingplace_keywords_df': np.True_,\n",
       " 'gambling_places_df': True,\n",
       " 'addresses_df': True,\n",
       " 'schools_df': False,\n",
       " 'school_place_proximity_df': np.True_}"
      ]
     },
     "execution_count": 4,
     "metadata": {},
     "output_type": "execute_result"
    }
   ],
   "source": [
    "# Define suspected primary keys for each table and check if they are unique for BCNF\n",
    "key_checks = {\n",
    "    \"gambling_keywords_df\": gambling_keywords_df[\"KeywordId\"].is_unique,\n",
    "    \"counties_df\": counties_df[\"CountyId\"].is_unique,\n",
    "    \"gamblingplace_keywords_df\": (gamblingplace_keywords_df[[\"GamblingPlaceId\", \"KeywordId\"]]\n",
    "                                   .duplicated().sum() == 0),\n",
    "    \"gambling_places_df\": gambling_places_df[\"GamblingPlaceId\"].is_unique,\n",
    "    \"addresses_df\": addresses_df[\"SchoolAddressId\"].is_unique,\n",
    "    \"schools_df\": schools_df[\"SchoolId\"].is_unique,\n",
    "    \"school_place_proximity_df\": (school_place_proximity_df[[\"SchoolId\", \"GamblingPlaceId\"]]\n",
    "                                   .duplicated().sum() == 0)\n",
    "}\n",
    "\n",
    "key_checks"
   ]
  }
 ],
 "metadata": {
  "kernelspec": {
   "display_name": "Python 3",
   "language": "python",
   "name": "python3"
  },
  "language_info": {
   "codemirror_mode": {
    "name": "ipython",
    "version": 3
   },
   "file_extension": ".py",
   "mimetype": "text/x-python",
   "name": "python",
   "nbconvert_exporter": "python",
   "pygments_lexer": "ipython3",
   "version": "3.13.2"
  }
 },
 "nbformat": 4,
 "nbformat_minor": 2
}
